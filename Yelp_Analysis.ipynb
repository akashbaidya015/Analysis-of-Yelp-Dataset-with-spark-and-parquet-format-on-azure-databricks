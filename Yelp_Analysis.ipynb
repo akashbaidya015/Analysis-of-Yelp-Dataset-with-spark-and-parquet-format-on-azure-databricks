{
 "cells": [
  {
   "cell_type": "code",
   "execution_count": null,
   "id": "67c825be-3ba1-4523-8f40-d45484de0b7b",
   "metadata": {},
   "outputs": [],
   "source": []
  },
  {
   "cell_type": "code",
   "execution_count": 1,
   "id": "a7abb90b-c453-48a7-bb6a-c7ebfedbcb8f",
   "metadata": {},
   "outputs": [],
   "source": [
    "import sys\n",
    "from pyspark.sql import functions as f"
   ]
  },
  {
   "cell_type": "code",
   "execution_count": 2,
   "id": "054e9625-d27f-47bb-b121-c36c68d49606",
   "metadata": {},
   "outputs": [
    {
     "name": "stdout",
     "output_type": "stream",
     "text": [
      "3.7.16 (default, Jan 17 2023, 16:06:28) [MSC v.1916 64 bit (AMD64)]\n"
     ]
    }
   ],
   "source": [
    "print(sys.version)"
   ]
  },
  {
   "cell_type": "code",
   "execution_count": 3,
   "id": "373b08d1-0d5c-41e0-b744-96bb5f644e43",
   "metadata": {},
   "outputs": [],
   "source": [
    "from pyspark.sql import SparkSession"
   ]
  },
  {
   "cell_type": "raw",
   "id": "bb21f0cc-c86a-43c9-9ff5-d0d1aa1ab642",
   "metadata": {},
   "source": [
    "df_business = spark.read.json(\"Downloads/data_2/data_2/yelp_academic_dataset_business.json\")\n",
    "df_checkin = spark.read.json (\"Downloads/data_2/data_2/yelp_academic_dataset_checkin.json\")\n",
    "df_review = spark.read.json  (\"Downloads/data_2/data_2/yelp_academic_dataset_review.json\")\n",
    "df_tip = spark.read.json     (\"Downloads/data_2/data_2/yelp_academic_dataset_tip.json\")\n",
    "df_user = spark.read.json    (\"Downloads/data_2/data_2/yelp_academic_dataset_user.json\")"
   ]
  },
  {
   "cell_type": "code",
   "execution_count": 4,
   "id": "b05047ba-30af-4a21-a860-45cbd955aa3f",
   "metadata": {},
   "outputs": [],
   "source": [
    "spark = SparkSession.builder \\\n",
    "    .appName(\"MySparkApplication\") \\\n",
    "    .config(\"spark.driver.memory\", \"3g\") \\\n",
    "    .config(\"spark.executor.memory\", \"3g\") \\\n",
    "    .getOrCreate()\n"
   ]
  },
  {
   "cell_type": "code",
   "execution_count": 5,
   "id": "05a03dfb-b37b-4d25-a411-2769f55e201d",
   "metadata": {},
   "outputs": [],
   "source": [
    "\n",
    "\n",
    "parquet_output_path = \"Downloads/data_2/data_2/json_to_parquet/yelp_academic_dataset_review.parquet\" \n"
   ]
  },
  {
   "cell_type": "markdown",
   "id": "7b16df34-af85-4622-b11b-5ec45c809e61",
   "metadata": {},
   "source": [
    "parquet_output_path = \"Downloads/data_2/data_2/json_to_parquet/yelp_academic_dataset_business.parquet\"\n",
    "df_business.write.mode(\"overwrite\").format(\"parquet\").save(parquet_output_path)\n",
    "\n",
    "parquet_output_path = \"Downloads/data_2/data_2/json_to_parquet/yelp_academic_dataset_checkin.parquet\"\n",
    "df_checkin.write.mode(\"overwrite\").format(\"parquet\").save(parquet_output_path)\n",
    "\n",
    "parquet_output_path = \"Downloads/data_2/data_2/json_to_parquet/yelp_academic_dataset_review.parquet\"\n",
    "df_review.write.mode(\"overwrite\").format(\"parquet\").save(parquet_output_path)\n",
    "\n",
    "parquet_output_path = \"Downloads/data_2/data_2/json_to_parquet/yelp_academic_dataset_tip.parquet\"\n",
    "df_tip.write.mode(\"overwrite\").format(\"parquet\").save(parquet_output_path)\n",
    "\n",
    "parquet_output_path = \"Downloads/data_2/data_2/json_to_parquet/yelp_academic_dataset_user.parquet\"\n",
    "df_user.write.mode(\"overwrite\").format(\"parquet\").save(parquet_output_path)"
   ]
  },
  {
   "cell_type": "code",
   "execution_count": 6,
   "id": "fa1c55e5-dfe0-4d8f-a436-0266e60a8670",
   "metadata": {},
   "outputs": [],
   "source": [
    "df_user = spark.read.option(\"inferSchema\",\"true\").parquet(\"Downloads/data_2/data_2/json_to_parquet/yelp_academic_dataset_user.parquet\")\n",
    "df_user_part = df_user.repartition(40)\n",
    "\n",
    "df_business = spark.read.parquet(\"Downloads/data_2/data_2/json_to_parquet/yelp_academic_dataset_business.parquet\")\n",
    "\n",
    "df_checkin = spark.read.parquet (\"Downloads/data_2/data_2/json_to_parquet/yelp_academic_dataset_checkin.parquet\" )\n",
    "df_review = spark.read.parquet  (\"Downloads/data_2/data_2/json_to_parquet/yelp_academic_dataset_review.parquet\"  )\n",
    "df_tip = spark.read.parquet     (\"Downloads/data_2/data_2/json_to_parquet/yelp_academic_dataset_tip.parquet\"     )\n",
    "  "
   ]
  },
  {
   "cell_type": "code",
   "execution_count": 7,
   "id": "145b427d-7da9-4d74-a58b-f237424cc054",
   "metadata": {},
   "outputs": [
    {
     "data": {
      "text/plain": [
       "DataFrame[average_stars: double, compliment_cool: bigint, compliment_cute: bigint, compliment_funny: bigint, compliment_hot: bigint, compliment_list: bigint, compliment_more: bigint, compliment_note: bigint, compliment_photos: bigint, compliment_plain: bigint, compliment_profile: bigint, compliment_writer: bigint, cool: bigint, elite: string, fans: bigint, friends: string, funny: bigint, name: string, review_count: bigint, useful: bigint, user_id: string, yelping_since: string]"
      ]
     },
     "metadata": {},
     "output_type": "display_data"
    }
   ],
   "source": [
    "display(df_user)"
   ]
  },
  {
   "cell_type": "code",
   "execution_count": 8,
   "id": "41e7f936-64e7-4075-b68b-44f2d1bea58c",
   "metadata": {},
   "outputs": [],
   "source": [
    "df_user_part.createOrReplaceTempView(\"user\")"
   ]
  },
  {
   "cell_type": "markdown",
   "id": "5648c75b-1f8e-431b-a87a-f47ab08b4171",
   "metadata": {},
   "source": [
    "<h4>**Find the top 3 users based on their total number of reviews:**</h5>"
   ]
  },
  {
   "cell_type": "code",
   "execution_count": 9,
   "id": "e5c76ae6-1bde-4f54-93d2-7e5047e7b437",
   "metadata": {},
   "outputs": [
    {
     "name": "stdout",
     "output_type": "stream",
     "text": [
      "+--------------------+------+------------+\n",
      "|             user_id|  name|review_count|\n",
      "+--------------------+------+------------+\n",
      "|Hi10sGSZNxQH3NLyW...|   Fox|       17473|\n",
      "|8k3aO-mPeyhbR5HUu...|Victor|       16978|\n",
      "|hWDybu_KvYLSdEFzG...| Bruce|       16567|\n",
      "+--------------------+------+------------+\n",
      "\n"
     ]
    }
   ],
   "source": [
    "spark.sql(\"select user_id,name,review_count from user order by review_count desc limit 3\").show()"
   ]
  },
  {
   "cell_type": "code",
   "execution_count": 10,
   "id": "853ba8e7-e956-48ed-88ca-04e6ad3ff2c5",
   "metadata": {},
   "outputs": [
    {
     "name": "stdout",
     "output_type": "stream",
     "text": [
      "Requirement already satisfied: pandas in c:\\users\\akash\\anaconda3\\envs\\py37\\lib\\site-packages (1.3.5)\n",
      "Requirement already satisfied: pytz>=2017.3 in c:\\users\\akash\\anaconda3\\envs\\py37\\lib\\site-packages (from pandas) (2022.7)\n",
      "Requirement already satisfied: python-dateutil>=2.7.3 in c:\\users\\akash\\anaconda3\\envs\\py37\\lib\\site-packages (from pandas) (2.8.2)\n",
      "Requirement already satisfied: numpy>=1.17.3 in c:\\users\\akash\\anaconda3\\envs\\py37\\lib\\site-packages (from pandas) (1.21.6)\n",
      "Requirement already satisfied: six>=1.5 in c:\\users\\akash\\anaconda3\\envs\\py37\\lib\\site-packages (from python-dateutil>=2.7.3->pandas) (1.16.0)\n"
     ]
    }
   ],
   "source": [
    "df = df_business\n",
    "!pip install pandas\n",
    "import pandas as pd\n"
   ]
  },
  {
   "cell_type": "markdown",
   "id": "5a3a51d9-cc41-45e7-aae2-cc5a1a1321e0",
   "metadata": {},
   "source": [
    "<h4>**Find the top 10 users with the most fans:"
   ]
  },
  {
   "cell_type": "code",
   "execution_count": 11,
   "id": "c072bc02-849e-4e84-af48-839239f4e472",
   "metadata": {},
   "outputs": [
    {
     "name": "stdout",
     "output_type": "stream",
     "text": [
      "+--------------------+-------+-----+\n",
      "|             user_id|   name| fans|\n",
      "+--------------------+-------+-----+\n",
      "|37cpUoM8hlkSQfReI...|   Mike|12497|\n",
      "|hizGc5W1tBHPghM5Y...|  Katie| 3642|\n",
      "|Hi10sGSZNxQH3NLyW...|    Fox| 3493|\n",
      "|JjXuiru1_ONzDkYVr...|Richard| 3243|\n",
      "|j14WgRoU_-2ZE1aw1...| Daniel| 3138|\n",
      "|VHdY6oG2JPVNjihWh...|Jessica| 2627|\n",
      "|iLjMdZi0Tm7DQxX1C...|  Ruggy| 2547|\n",
      "|lt7bNHl-TXziny4FE...|  Megan| 2451|\n",
      "|fgwI3rYHOv1ipfVfC...|    Emi| 2424|\n",
      "|ITa3vh5ERI90G_WP4...|  Peter| 2388|\n",
      "+--------------------+-------+-----+\n",
      "\n"
     ]
    }
   ],
   "source": [
    "spark.sql(\"Select user_id,name,fans from user order by fans desc limit 10\").show()"
   ]
  },
  {
   "cell_type": "code",
   "execution_count": 12,
   "id": "3a201958-a100-4e9a-96c7-04cf72ff40d4",
   "metadata": {},
   "outputs": [
    {
     "name": "stdout",
     "output_type": "stream",
     "text": [
      "+-----------------------------------------------------------------------------------------------------+\n",
      "|categories                                                                                           |\n",
      "+-----------------------------------------------------------------------------------------------------+\n",
      "|Home & Garden, Home Decor, Furniture Stores, Shopping                                                |\n",
      "|Cheesesteaks, Bubble Tea, Food, Burgers, Chicken Wings, Coffee & Tea, Restaurants                    |\n",
      "|Restaurants, Chinese                                                                                 |\n",
      "|Home Services, Real Estate Services, Real Estate                                                     |\n",
      "|Shopping, Accessories, Women's Clothing, Fashion                                                     |\n",
      "|Flowers & Gifts, Shopping, Florists                                                                  |\n",
      "|Coffee & Tea, Breakfast & Brunch, Food, Restaurants                                                  |\n",
      "|Pet Stores, Pets                                                                                     |\n",
      "|Restaurants, Delis, Specialty Food, Food                                                             |\n",
      "|Public Services & Government, Local Services, Shipping Centers, Post Offices                         |\n",
      "|Restaurants, Sandwiches, Fast Food                                                                   |\n",
      "|Home Decor, Home & Garden, Furniture Stores, Antiques, Shopping                                      |\n",
      "|Ice Cream & Frozen Yogurt, Food                                                                      |\n",
      "|Beauty & Spas, Nail Salons                                                                           |\n",
      "|Beauty & Spas, Nail Salons                                                                           |\n",
      "|Local Services, Preschools, Child Care & Day Care, Education                                         |\n",
      "|Burgers, Caterers, Restaurants, Nightlife, American (Traditional), Bars, Event Planning & Services   |\n",
      "|Boot Camps, Nutritionists, Yoga, Fitness & Instruction, Health & Medical, Active Life, Gyms, Trainers|\n",
      "|Restaurants, American (New)                                                                          |\n",
      "|Restaurants, Food, Juice Bars & Smoothies, Ice Cream & Frozen Yogurt                                 |\n",
      "+-----------------------------------------------------------------------------------------------------+\n",
      "only showing top 20 rows\n",
      "\n"
     ]
    }
   ],
   "source": [
    "df_business.select(\"categories\",).show(truncate=False)"
   ]
  },
  {
   "cell_type": "code",
   "execution_count": 13,
   "id": "8e391cf5-b133-440b-b189-6bedab048efd",
   "metadata": {},
   "outputs": [],
   "source": [
    "\n",
    "pd = df_business.toPandas()"
   ]
  },
  {
   "cell_type": "markdown",
   "id": "afc31f7b-6e57-4b84-867e-16167a5d74fa",
   "metadata": {},
   "source": [
    "<h4>**Analyse top 10 categories by number of reviews:\n",
    "    "
   ]
  },
  {
   "cell_type": "code",
   "execution_count": 14,
   "id": "8c0cfebe-eff5-4f99-8182-f800e3ddcdbd",
   "metadata": {},
   "outputs": [
    {
     "name": "stdout",
     "output_type": "stream",
     "text": [
      "+--------------------+-------------------+\n",
      "|          categories|total_revenue_count|\n",
      "+--------------------+-------------------+\n",
      "|Automotive, Car D...|                  9|\n",
      "|Screen Printing, ...|                  1|\n",
      "|Parks, Active Lif...|                 12|\n",
      "|Property Manageme...|                  1|\n",
      "|Gold Buyers, Shop...|                  1|\n",
      "|Restaurants, Chic...|                 12|\n",
      "|Event Planning & ...|                 10|\n",
      "|Hot Dogs, America...|                  1|\n",
      "|Furniture Stores,...|                  5|\n",
      "|Beauty & Spas, Sk...|                  1|\n",
      "|Home Services, Ho...|                  1|\n",
      "|Chicken Wings, Fa...|                  9|\n",
      "|Restaurants, Amer...|                  1|\n",
      "|Eyelash Service, ...|                  1|\n",
      "|Venues & Event Sp...|                 13|\n",
      "|Art Galleries, Je...|                  1|\n",
      "|Veterinarians, Pe...|                  1|\n",
      "|Tex-Mex, Mexican,...|                  1|\n",
      "|Makeup Artists, H...|                  7|\n",
      "|Coffee & Tea, Foo...|                  2|\n",
      "+--------------------+-------------------+\n",
      "only showing top 20 rows\n",
      "\n",
      "+--------------------+-------------------+---+\n",
      "|          categories|total_revenue_count| rn|\n",
      "+--------------------+-------------------+---+\n",
      "|Beauty & Spas, Na...|               1012|  1|\n",
      "|  Restaurants, Pizza|                935|  2|\n",
      "|Nail Salons, Beau...|                934|  3|\n",
      "|  Pizza, Restaurants|                823|  4|\n",
      "|Restaurants, Mexican|                728|  5|\n",
      "|Restaurants, Chinese|                708|  6|\n",
      "|Mexican, Restaurants|                672|  7|\n",
      "|Chinese, Restaurants|                651|  8|\n",
      "|  Food, Coffee & Tea|                508|  9|\n",
      "|Beauty & Spas, Ha...|                493| 10|\n",
      "|Hair Salons, Beau...|                480| 11|\n",
      "|  Coffee & Tea, Food|                473| 12|\n",
      "|Automotive, Auto ...|                361| 13|\n",
      "|Auto Repair, Auto...|                351| 14|\n",
      "|       Grocery, Food|                329| 15|\n",
      "|Italian, Restaurants|                328| 16|\n",
      "|       Food, Grocery|                306| 17|\n",
      "| Veterinarians, Pets|                300| 18|\n",
      "|Ice Cream & Froze...|                298| 19|\n",
      "| Pets, Veterinarians|                285| 20|\n",
      "+--------------------+-------------------+---+\n",
      "only showing top 20 rows\n",
      "\n",
      "+--------------------+-------------------+---+\n",
      "|          categories|total_revenue_count| rn|\n",
      "+--------------------+-------------------+---+\n",
      "|Beauty & Spas, Na...|               1012|  1|\n",
      "|  Restaurants, Pizza|                935|  2|\n",
      "|Nail Salons, Beau...|                934|  3|\n",
      "|  Pizza, Restaurants|                823|  4|\n",
      "|Restaurants, Mexican|                728|  5|\n",
      "|Restaurants, Chinese|                708|  6|\n",
      "|Mexican, Restaurants|                672|  7|\n",
      "|Chinese, Restaurants|                651|  8|\n",
      "|  Food, Coffee & Tea|                508|  9|\n",
      "|Beauty & Spas, Ha...|                493| 10|\n",
      "+--------------------+-------------------+---+\n",
      "\n"
     ]
    }
   ],
   "source": [
    "\n",
    "\n",
    "df_business_cat = df_business.groupBy(\"categories\").agg(f.count(\"review_count\").alias(\"total_revenue_count\"))\n",
    "                                                    \n",
    "df_business_cat.show()\n",
    "\n",
    "\n",
    "df_business_cat.createOrReplaceTempView(\"cat\")\n",
    "\n",
    "from pyspark.sql.window import Window\n",
    "spark.sql(\"select *, row_number() over (order by total_revenue_count desc) as rn from cat\").show()\n",
    "\n",
    "df_cat = df_business_cat.withColumn(\"rn\",f.row_number().over(Window.orderBy(f.col('total_revenue_count').desc()))\n",
    "                        )\n",
    "x = df_cat.filter(df_cat['rn'] <= 10)\n",
    "y = df_cat.filter(f.col('rn') <= 10)\n",
    "\n",
    "x.show()\n",
    "\n",
    "\n",
    "df_business_reviews = df_business.groupBy(\"categories\").agg(f.count(\"review_count\").alias(\"total_revenue_count\")).orderBy(f.desc(\"total_revenue_count\"))\n"
   ]
  },
  {
   "cell_type": "markdown",
   "id": "0378090b-7438-48b4-8818-aa1bef34ec4f",
   "metadata": {},
   "source": [
    "<h4>**Analyse top business which have over 1000 reviews:"
   ]
  },
  {
   "cell_type": "code",
   "execution_count": 15,
   "id": "7bcc8df3-3890-499d-878a-8a681efb8d12",
   "metadata": {},
   "outputs": [],
   "source": [
    "df_top = df_business_reviews.filter(f.col(\"total_revenue_count\") >= 1000).orderBy(f.desc(\"total_revenue_count\"))\n"
   ]
  },
  {
   "cell_type": "code",
   "execution_count": 16,
   "id": "9615464f-a091-47f7-96ef-ff6a859afcfb",
   "metadata": {},
   "outputs": [
    {
     "name": "stdout",
     "output_type": "stream",
     "text": [
      "+--------------------+-------------------+\n",
      "|          categories|total_revenue_count|\n",
      "+--------------------+-------------------+\n",
      "|Beauty & Spas, Na...|               1012|\n",
      "+--------------------+-------------------+\n",
      "\n"
     ]
    }
   ],
   "source": [
    "df_top.show()"
   ]
  },
  {
   "cell_type": "code",
   "execution_count": 17,
   "id": "f55dc778-76aa-423c-8495-587ef13b6caa",
   "metadata": {},
   "outputs": [
    {
     "data": {
      "text/html": [
       "<div>\n",
       "<style scoped>\n",
       "    .dataframe tbody tr th:only-of-type {\n",
       "        vertical-align: middle;\n",
       "    }\n",
       "\n",
       "    .dataframe tbody tr th {\n",
       "        vertical-align: top;\n",
       "    }\n",
       "\n",
       "    .dataframe thead th {\n",
       "        text-align: right;\n",
       "    }\n",
       "</style>\n",
       "<table border=\"1\" class=\"dataframe\">\n",
       "  <thead>\n",
       "    <tr style=\"text-align: right;\">\n",
       "      <th></th>\n",
       "      <th>address</th>\n",
       "      <th>attributes</th>\n",
       "      <th>business_id</th>\n",
       "      <th>categories</th>\n",
       "      <th>city</th>\n",
       "      <th>hours</th>\n",
       "      <th>is_open</th>\n",
       "      <th>latitude</th>\n",
       "      <th>longitude</th>\n",
       "      <th>name</th>\n",
       "      <th>postal_code</th>\n",
       "      <th>review_count</th>\n",
       "      <th>stars</th>\n",
       "      <th>state</th>\n",
       "    </tr>\n",
       "  </thead>\n",
       "  <tbody>\n",
       "    <tr>\n",
       "      <th>0</th>\n",
       "      <td>120 W Main St</td>\n",
       "      <td>(None, None, None, None, None, None, None, Non...</td>\n",
       "      <td>xKoz9eM8hUELf5qixexeJQ</td>\n",
       "      <td>Home &amp; Garden, Home Decor, Furniture Stores, S...</td>\n",
       "      <td>Plainfield</td>\n",
       "      <td>(10:0-18:0, None, 10:0-18:0, 12:0-17:0, None, ...</td>\n",
       "      <td>1</td>\n",
       "      <td>39.703082</td>\n",
       "      <td>-86.402772</td>\n",
       "      <td>African Plum Home &amp; More</td>\n",
       "      <td>46168</td>\n",
       "      <td>5</td>\n",
       "      <td>4.5</td>\n",
       "      <td>IN</td>\n",
       "    </tr>\n",
       "    <tr>\n",
       "      <th>1</th>\n",
       "      <td>2224 E Fletcher Ave</td>\n",
       "      <td>(None, None, u'none', {'touristy': False, 'hip...</td>\n",
       "      <td>yiE_Iym7A9wa6tyJHkWzhw</td>\n",
       "      <td>Cheesesteaks, Bubble Tea, Food, Burgers, Chick...</td>\n",
       "      <td>Tampa</td>\n",
       "      <td>(11:0-23:0, None, 12:0-23:0, 12:0-22:0, 11:0-2...</td>\n",
       "      <td>1</td>\n",
       "      <td>28.069623</td>\n",
       "      <td>-82.433078</td>\n",
       "      <td>Craft Fry Wing</td>\n",
       "      <td>33612</td>\n",
       "      <td>43</td>\n",
       "      <td>4.5</td>\n",
       "      <td>FL</td>\n",
       "    </tr>\n",
       "    <tr>\n",
       "      <th>2</th>\n",
       "      <td>7811 US 31 S</td>\n",
       "      <td>(None, None, u'none', None, None, None, None, ...</td>\n",
       "      <td>7d9X9wnm_35UcdJRJNu_Sw</td>\n",
       "      <td>Restaurants, Chinese</td>\n",
       "      <td>Indianapolis</td>\n",
       "      <td>(10:30-23:0, 10:30-22:0, 10:30-23:0, 11:30-22:...</td>\n",
       "      <td>1</td>\n",
       "      <td>39.652946</td>\n",
       "      <td>-86.136276</td>\n",
       "      <td>China King</td>\n",
       "      <td>46227</td>\n",
       "      <td>22</td>\n",
       "      <td>4.0</td>\n",
       "      <td>IN</td>\n",
       "    </tr>\n",
       "    <tr>\n",
       "      <th>3</th>\n",
       "      <td>924 Arch St</td>\n",
       "      <td>(None, None, None, None, None, None, None, Non...</td>\n",
       "      <td>CFPWVAFSP3Ktfe-cEXeKoA</td>\n",
       "      <td>Home Services, Real Estate Services, Real Estate</td>\n",
       "      <td>Philadelphia</td>\n",
       "      <td>None</td>\n",
       "      <td>1</td>\n",
       "      <td>39.953134</td>\n",
       "      <td>-75.155747</td>\n",
       "      <td>Liberty Real Estate Associates</td>\n",
       "      <td>19107</td>\n",
       "      <td>15</td>\n",
       "      <td>1.5</td>\n",
       "      <td>PA</td>\n",
       "    </tr>\n",
       "    <tr>\n",
       "      <th>4</th>\n",
       "      <td>4317 Harding Pike</td>\n",
       "      <td>(None, None, None, None, None, None, None, Fal...</td>\n",
       "      <td>EgZH_qXEQH_WJyNFgRaWDw</td>\n",
       "      <td>Shopping, Accessories, Women's Clothing, Fashion</td>\n",
       "      <td>Nashville</td>\n",
       "      <td>(10:0-17:30, 10:0-17:30, 10:0-17:0, None, 10:0...</td>\n",
       "      <td>0</td>\n",
       "      <td>36.126026</td>\n",
       "      <td>-86.845443</td>\n",
       "      <td>Jamie</td>\n",
       "      <td>37205</td>\n",
       "      <td>6</td>\n",
       "      <td>3.0</td>\n",
       "      <td>TN</td>\n",
       "    </tr>\n",
       "  </tbody>\n",
       "</table>\n",
       "</div>"
      ],
      "text/plain": [
       "               address                                         attributes  \\\n",
       "0        120 W Main St  (None, None, None, None, None, None, None, Non...   \n",
       "1  2224 E Fletcher Ave  (None, None, u'none', {'touristy': False, 'hip...   \n",
       "2         7811 US 31 S  (None, None, u'none', None, None, None, None, ...   \n",
       "3          924 Arch St  (None, None, None, None, None, None, None, Non...   \n",
       "4    4317 Harding Pike  (None, None, None, None, None, None, None, Fal...   \n",
       "\n",
       "              business_id                                         categories  \\\n",
       "0  xKoz9eM8hUELf5qixexeJQ  Home & Garden, Home Decor, Furniture Stores, S...   \n",
       "1  yiE_Iym7A9wa6tyJHkWzhw  Cheesesteaks, Bubble Tea, Food, Burgers, Chick...   \n",
       "2  7d9X9wnm_35UcdJRJNu_Sw                               Restaurants, Chinese   \n",
       "3  CFPWVAFSP3Ktfe-cEXeKoA   Home Services, Real Estate Services, Real Estate   \n",
       "4  EgZH_qXEQH_WJyNFgRaWDw   Shopping, Accessories, Women's Clothing, Fashion   \n",
       "\n",
       "           city                                              hours  is_open  \\\n",
       "0    Plainfield  (10:0-18:0, None, 10:0-18:0, 12:0-17:0, None, ...        1   \n",
       "1         Tampa  (11:0-23:0, None, 12:0-23:0, 12:0-22:0, 11:0-2...        1   \n",
       "2  Indianapolis  (10:30-23:0, 10:30-22:0, 10:30-23:0, 11:30-22:...        1   \n",
       "3  Philadelphia                                               None        1   \n",
       "4     Nashville  (10:0-17:30, 10:0-17:30, 10:0-17:0, None, 10:0...        0   \n",
       "\n",
       "    latitude  longitude                            name postal_code  \\\n",
       "0  39.703082 -86.402772        African Plum Home & More       46168   \n",
       "1  28.069623 -82.433078                  Craft Fry Wing       33612   \n",
       "2  39.652946 -86.136276                      China King       46227   \n",
       "3  39.953134 -75.155747  Liberty Real Estate Associates       19107   \n",
       "4  36.126026 -86.845443                           Jamie       37205   \n",
       "\n",
       "   review_count  stars state  \n",
       "0             5    4.5    IN  \n",
       "1            43    4.5    FL  \n",
       "2            22    4.0    IN  \n",
       "3            15    1.5    PA  \n",
       "4             6    3.0    TN  "
      ]
     },
     "execution_count": 17,
     "metadata": {},
     "output_type": "execute_result"
    }
   ],
   "source": [
    "pd.head(5)"
   ]
  },
  {
   "cell_type": "markdown",
   "id": "e67a1602-df78-490d-9273-cfcf178bc07b",
   "metadata": {},
   "source": [
    "<h4>**Analyse Business Data:Number of Restaurants per state"
   ]
  },
  {
   "cell_type": "markdown",
   "id": "206a7873-6245-48ee-860d-cd94e5bc687b",
   "metadata": {},
   "source": [
    "df_num_of_restaurants = df_business.select('state').groupBy('state').count().orderBy(f.desc(\"count\"))\n",
    "\n",
    "df_num_of_restaurants.show()"
   ]
  },
  {
   "cell_type": "markdown",
   "id": "3b64cd6d-3b30-4334-80f0-523eb7e13c1d",
   "metadata": {},
   "source": [
    "<h4>**Analyze top 3 restaurants in each state:"
   ]
  },
  {
   "cell_type": "markdown",
   "id": "d07028cd-ba6f-4539-b92d-c083446d0007",
   "metadata": {},
   "source": [
    "from pyspark.sql import Window\n",
    "\n",
    "df_business_ranked = df_business.withColumn(\"rn\",f.rank().over(Window.partitionBy(\"state\").orderBy(f.desc(\"review_count\"))))\n",
    "\n",
    "pd = df_business_ranked.filter(f.col(\"rn\") <= 3).toPandas()\n",
    "\n",
    "pd.head(30)"
   ]
  },
  {
   "cell_type": "markdown",
   "id": "63462cab-1d22-4429-a3f7-769766afce63",
   "metadata": {},
   "source": [
    "<h4>**List the top restaurants in a state by the number of reviews:"
   ]
  },
  {
   "cell_type": "code",
   "execution_count": 18,
   "id": "a627665c-2bfc-4360-a84c-043a70c77b48",
   "metadata": {},
   "outputs": [],
   "source": [
    "df_state = df_business.filter(f.col(\"state\") == \"AZ\")"
   ]
  },
  {
   "cell_type": "code",
   "execution_count": 19,
   "id": "59f2988a-6249-43a8-b925-609b87907ee9",
   "metadata": {},
   "outputs": [
    {
     "name": "stdout",
     "output_type": "stream",
     "text": [
      "+--------+\n",
      "|count(1)|\n",
      "+--------+\n",
      "|       6|\n",
      "+--------+\n",
      "\n"
     ]
    }
   ],
   "source": [
    "df_business.filter(f.col(\"name\") == \"El Charro Cafe\").agg(f.count(\"*\")).show()"
   ]
  },
  {
   "cell_type": "markdown",
   "id": "a09f7f02-23bb-4d14-9589-6262e1d48a06",
   "metadata": {},
   "source": [
    "<h4>**Numbers of restaurants in Arizona state per city"
   ]
  },
  {
   "cell_type": "code",
   "execution_count": 20,
   "id": "17af0684-38b1-4c18-9b7b-87dcb659b364",
   "metadata": {},
   "outputs": [
    {
     "data": {
      "text/html": [
       "<div>\n",
       "<style scoped>\n",
       "    .dataframe tbody tr th:only-of-type {\n",
       "        vertical-align: middle;\n",
       "    }\n",
       "\n",
       "    .dataframe tbody tr th {\n",
       "        vertical-align: top;\n",
       "    }\n",
       "\n",
       "    .dataframe thead th {\n",
       "        text-align: right;\n",
       "    }\n",
       "</style>\n",
       "<table border=\"1\" class=\"dataframe\">\n",
       "  <thead>\n",
       "    <tr style=\"text-align: right;\">\n",
       "      <th></th>\n",
       "      <th>name</th>\n",
       "      <th>review</th>\n",
       "    </tr>\n",
       "  </thead>\n",
       "  <tbody>\n",
       "    <tr>\n",
       "      <th>0</th>\n",
       "      <td>Starbucks</td>\n",
       "      <td>63</td>\n",
       "    </tr>\n",
       "    <tr>\n",
       "      <th>1</th>\n",
       "      <td>Subway</td>\n",
       "      <td>50</td>\n",
       "    </tr>\n",
       "    <tr>\n",
       "      <th>2</th>\n",
       "      <td>Walgreens</td>\n",
       "      <td>44</td>\n",
       "    </tr>\n",
       "    <tr>\n",
       "      <th>3</th>\n",
       "      <td>McDonald's</td>\n",
       "      <td>41</td>\n",
       "    </tr>\n",
       "    <tr>\n",
       "      <th>4</th>\n",
       "      <td>eegee's</td>\n",
       "      <td>27</td>\n",
       "    </tr>\n",
       "    <tr>\n",
       "      <th>5</th>\n",
       "      <td>The UPS Store</td>\n",
       "      <td>26</td>\n",
       "    </tr>\n",
       "    <tr>\n",
       "      <th>6</th>\n",
       "      <td>Circle K</td>\n",
       "      <td>24</td>\n",
       "    </tr>\n",
       "    <tr>\n",
       "      <th>7</th>\n",
       "      <td>Burger King</td>\n",
       "      <td>23</td>\n",
       "    </tr>\n",
       "    <tr>\n",
       "      <th>8</th>\n",
       "      <td>Taco Bell</td>\n",
       "      <td>22</td>\n",
       "    </tr>\n",
       "    <tr>\n",
       "      <th>9</th>\n",
       "      <td>Supercuts</td>\n",
       "      <td>21</td>\n",
       "    </tr>\n",
       "  </tbody>\n",
       "</table>\n",
       "</div>"
      ],
      "text/plain": [
       "            name  review\n",
       "0      Starbucks      63\n",
       "1         Subway      50\n",
       "2      Walgreens      44\n",
       "3     McDonald's      41\n",
       "4        eegee's      27\n",
       "5  The UPS Store      26\n",
       "6       Circle K      24\n",
       "7    Burger King      23\n",
       "8      Taco Bell      22\n",
       "9      Supercuts      21"
      ]
     },
     "execution_count": 20,
     "metadata": {},
     "output_type": "execute_result"
    }
   ],
   "source": [
    "df_result=df_state.withColumn(\"rn\",f.rank().over(Window.orderBy(f.desc(\"review_count\"))))\n",
    "\n",
    "df_arizona = df_business.filter(f.col(\"state\") == \"AZ\")\n",
    "\n",
    "\n",
    "\n",
    "\n",
    "df_result = df_business.filter(f.col(\"state\") == \"AZ\").groupby(\"name\").agg(f.count(\"review_count\").alias(\"review\")).orderBy(f.desc(\"review\"))\n",
    "\n",
    "\n",
    "pr = df_result.select(\"name\",\"review\").toPandas()\n",
    "\n",
    "pr.head(10)"
   ]
  },
  {
   "cell_type": "markdown",
   "id": "5d2160fb-dfe6-4c4a-ad35-e81788f61c16",
   "metadata": {},
   "source": [
    "<h4>**Number of restaurants in Arizona state per city"
   ]
  },
  {
   "cell_type": "code",
   "execution_count": 21,
   "id": "98ecbf1b-c14f-4a78-8799-c77d27fe7914",
   "metadata": {},
   "outputs": [
    {
     "data": {
      "text/html": [
       "<div>\n",
       "<style scoped>\n",
       "    .dataframe tbody tr th:only-of-type {\n",
       "        vertical-align: middle;\n",
       "    }\n",
       "\n",
       "    .dataframe tbody tr th {\n",
       "        vertical-align: top;\n",
       "    }\n",
       "\n",
       "    .dataframe thead th {\n",
       "        text-align: right;\n",
       "    }\n",
       "</style>\n",
       "<table border=\"1\" class=\"dataframe\">\n",
       "  <thead>\n",
       "    <tr style=\"text-align: right;\">\n",
       "      <th></th>\n",
       "      <th>city</th>\n",
       "      <th>no_restaurants</th>\n",
       "    </tr>\n",
       "  </thead>\n",
       "  <tbody>\n",
       "    <tr>\n",
       "      <th>0</th>\n",
       "      <td>Tucson</td>\n",
       "      <td>9249</td>\n",
       "    </tr>\n",
       "    <tr>\n",
       "      <th>1</th>\n",
       "      <td>Oro Valley</td>\n",
       "      <td>286</td>\n",
       "    </tr>\n",
       "    <tr>\n",
       "      <th>2</th>\n",
       "      <td>Marana</td>\n",
       "      <td>102</td>\n",
       "    </tr>\n",
       "    <tr>\n",
       "      <th>3</th>\n",
       "      <td>Sahuarita</td>\n",
       "      <td>69</td>\n",
       "    </tr>\n",
       "    <tr>\n",
       "      <th>4</th>\n",
       "      <td>Green Valley</td>\n",
       "      <td>69</td>\n",
       "    </tr>\n",
       "    <tr>\n",
       "      <th>5</th>\n",
       "      <td>Vail</td>\n",
       "      <td>51</td>\n",
       "    </tr>\n",
       "    <tr>\n",
       "      <th>6</th>\n",
       "      <td>Tuscon</td>\n",
       "      <td>18</td>\n",
       "    </tr>\n",
       "    <tr>\n",
       "      <th>7</th>\n",
       "      <td>Catalina</td>\n",
       "      <td>13</td>\n",
       "    </tr>\n",
       "    <tr>\n",
       "      <th>8</th>\n",
       "      <td>Mount Lemmon</td>\n",
       "      <td>7</td>\n",
       "    </tr>\n",
       "    <tr>\n",
       "      <th>9</th>\n",
       "      <td>TUCSON</td>\n",
       "      <td>6</td>\n",
       "    </tr>\n",
       "    <tr>\n",
       "      <th>10</th>\n",
       "      <td>tucson</td>\n",
       "      <td>4</td>\n",
       "    </tr>\n",
       "    <tr>\n",
       "      <th>11</th>\n",
       "      <td>Casas Adobes</td>\n",
       "      <td>4</td>\n",
       "    </tr>\n",
       "    <tr>\n",
       "      <th>12</th>\n",
       "      <td>South Tucson</td>\n",
       "      <td>3</td>\n",
       "    </tr>\n",
       "    <tr>\n",
       "      <th>13</th>\n",
       "      <td>Cortaro</td>\n",
       "      <td>3</td>\n",
       "    </tr>\n",
       "    <tr>\n",
       "      <th>14</th>\n",
       "      <td>Corona de Tucson</td>\n",
       "      <td>3</td>\n",
       "    </tr>\n",
       "    <tr>\n",
       "      <th>15</th>\n",
       "      <td>Oracle</td>\n",
       "      <td>2</td>\n",
       "    </tr>\n",
       "    <tr>\n",
       "      <th>16</th>\n",
       "      <td>Tucson</td>\n",
       "      <td>2</td>\n",
       "    </tr>\n",
       "    <tr>\n",
       "      <th>17</th>\n",
       "      <td>Corona De Tucson</td>\n",
       "      <td>2</td>\n",
       "    </tr>\n",
       "    <tr>\n",
       "      <th>18</th>\n",
       "      <td>Tucson, Arizona</td>\n",
       "      <td>2</td>\n",
       "    </tr>\n",
       "    <tr>\n",
       "      <th>19</th>\n",
       "      <td>Rillito</td>\n",
       "      <td>2</td>\n",
       "    </tr>\n",
       "  </tbody>\n",
       "</table>\n",
       "</div>"
      ],
      "text/plain": [
       "                city  no_restaurants\n",
       "0             Tucson            9249\n",
       "1         Oro Valley             286\n",
       "2             Marana             102\n",
       "3          Sahuarita              69\n",
       "4       Green Valley              69\n",
       "5               Vail              51\n",
       "6             Tuscon              18\n",
       "7           Catalina              13\n",
       "8       Mount Lemmon               7\n",
       "9             TUCSON               6\n",
       "10            tucson               4\n",
       "11      Casas Adobes               4\n",
       "12      South Tucson               3\n",
       "13           Cortaro               3\n",
       "14  Corona de Tucson               3\n",
       "15            Oracle               2\n",
       "16           Tucson                2\n",
       "17  Corona De Tucson               2\n",
       "18   Tucson, Arizona               2\n",
       "19           Rillito               2"
      ]
     },
     "execution_count": 21,
     "metadata": {},
     "output_type": "execute_result"
    }
   ],
   "source": [
    "df_az_cities = df_arizona.groupby(\"city\").agg(f.count(\"*\").alias(\"no_restaurants\")).orderBy(f.desc(\"no_restaurants\"))\n",
    "\n",
    "pdz = df_az_cities.toPandas()\n",
    "pdz.head(20)"
   ]
  },
  {
   "cell_type": "markdown",
   "id": "06e22a59-7330-4d80-a757-421abb2e53bf",
   "metadata": {},
   "source": [
    "<h4>**Select city with highest number of restaurants"
   ]
  },
  {
   "cell_type": "code",
   "execution_count": 22,
   "id": "f146d921-e15c-436d-bdb5-c6a8d9754728",
   "metadata": {},
   "outputs": [
    {
     "name": "stdout",
     "output_type": "stream",
     "text": [
      "+------------+------------+\n",
      "|        city|total_cities|\n",
      "+------------+------------+\n",
      "|Philadelphia|       14569|\n",
      "+------------+------------+\n",
      "\n"
     ]
    }
   ],
   "source": [
    "df_az = df_business.filter(f.col(\"state\") == \"AZ\").groupBy(\"name\").agg(f.count(\"review_count\").alias(\"count\")).orderBy(f.desc(\"count\"))\n",
    "\n",
    "pdz = df_az.toPandas()\n",
    "pdz.head(10)\n",
    "\n",
    "df_ans = df_business.groupby(\"city\").agg(f.count(\"*\").alias(\"total_cities\")).orderBy(f.desc(\"total_cities\"))\n",
    "\n",
    "df_ans.withColumn(\"rn\",f.rank().over(Window.orderBy(f.desc(\"total_cities\")))).filter(f.col(\"rn\") == 1).drop(\"rn\").select(\"*\").show()"
   ]
  },
  {
   "cell_type": "markdown",
   "id": "f247c9ce-b80d-4ef4-885d-c80fd6c789aa",
   "metadata": {},
   "source": [
    "<h4>**Broadcast Join"
   ]
  },
  {
   "cell_type": "code",
   "execution_count": 24,
   "id": "e7cd1238-bc02-4ea2-96ca-b19e8a5093a0",
   "metadata": {},
   "outputs": [],
   "source": [
    "from pyspark.sql.functions import broadcast\n",
    "\n",
    "df_best = df_business.join(broadcast(df_ans),\"city\",'inner')\n",
    "\n",
    "df_best = df_best.groupBy(\"name\",\"stars\").agg(f.count(\"review_count\").alias(\"review_count\"))\n",
    "\n",
    "df_best = df_best.filter(f.col(\"review_count\") >= 10)\n",
    "df_best = df_best.filter(f.col(\"stars\") >= 3)"
   ]
  },
  {
   "cell_type": "markdown",
   "id": "303abff2-acd8-4611-84ed-33c3ed9b25e9",
   "metadata": {},
   "source": [
    "<h4>**Most Rated Italian restaurant in Philadelphia"
   ]
  },
  {
   "cell_type": "code",
   "execution_count": 26,
   "id": "6a0ef1ad-a13d-4918-bc5e-d3b844224c71",
   "metadata": {},
   "outputs": [],
   "source": [
    "df_business_Philadelphia = df_business.filter(df_business.city == 'Philadelphia')\n",
    "df_business_italian = df_business_Philadelphia.filter(df_business.categories.contains('Italian'))"
   ]
  },
  {
   "cell_type": "code",
   "execution_count": 27,
   "id": "7803c002-1eec-4ffb-a950-84af6f81a7de",
   "metadata": {},
   "outputs": [
    {
     "data": {
      "text/plain": [
       "DataFrame[name: string, review_count: bigint]"
      ]
     },
     "metadata": {},
     "output_type": "display_data"
    }
   ],
   "source": [
    "df_best_italian_restaurants = df_business_italian.groupBy(\"name\").agg(f.count(\"review_count\").alias(\"review_count\"))\n",
    "\n",
    "df_best_italian_restaurants = df_best_italian_restaurants.filter(df_best_italian_restaurants[\"review_count\"] >= 5)\n",
    "\n",
    "display(df_best_italian_restaurants)"
   ]
  },
  {
   "cell_type": "code",
   "execution_count": null,
   "id": "b5c0a843-781c-41b7-a388-178cb91ee92c",
   "metadata": {},
   "outputs": [],
   "source": []
  }
 ],
 "metadata": {
  "kernelspec": {
   "display_name": "Python 3 (ipykernel)",
   "language": "python",
   "name": "python3"
  },
  "language_info": {
   "codemirror_mode": {
    "name": "ipython",
    "version": 3
   },
   "file_extension": ".py",
   "mimetype": "text/x-python",
   "name": "python",
   "nbconvert_exporter": "python",
   "pygments_lexer": "ipython3",
   "version": "3.7.16"
  }
 },
 "nbformat": 4,
 "nbformat_minor": 5
}
